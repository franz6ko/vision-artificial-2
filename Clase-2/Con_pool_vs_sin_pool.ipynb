{
  "nbformat": 4,
  "nbformat_minor": 0,
  "metadata": {
    "kernelspec": {
      "display_name": "Python 3",
      "language": "python",
      "name": "python3"
    },
    "language_info": {
      "codemirror_mode": {
        "name": "ipython",
        "version": 3
      },
      "file_extension": ".py",
      "mimetype": "text/x-python",
      "name": "python",
      "nbconvert_exporter": "python",
      "pygments_lexer": "ipython3",
      "version": "3.7.6"
    },
    "colab": {
      "name": "Con_pool_vs_sin_pool.ipynb",
      "provenance": [],
      "include_colab_link": true
    }
  },
  "cells": [
    {
      "cell_type": "markdown",
      "metadata": {
        "id": "view-in-github",
        "colab_type": "text"
      },
      "source": [
        "<a href=\"https://colab.research.google.com/github/franz6ko/vision-artificial-2/blob/master/Clase-2/Con_pool_vs_sin_pool.ipynb\" target=\"_parent\"><img src=\"https://colab.research.google.com/assets/colab-badge.svg\" alt=\"Open In Colab\"/></a>"
      ]
    },
    {
      "cell_type": "markdown",
      "metadata": {
        "id": "soCLllHwMgiT"
      },
      "source": [
        "## Experimento para ver el efecto de una capa POOL "
      ]
    },
    {
      "cell_type": "code",
      "metadata": {
        "id": "vLMhXOBSMgiU"
      },
      "source": [
        "import numpy as np\n",
        "import pandas as pd\n",
        "%matplotlib inline\n",
        "import matplotlib as mpl\n",
        "import matplotlib.pyplot as plt"
      ],
      "execution_count": 1,
      "outputs": []
    },
    {
      "cell_type": "code",
      "metadata": {
        "id": "s3kqywe9MgiY"
      },
      "source": [
        "import tensorflow as tf\n",
        "from tensorflow import keras"
      ],
      "execution_count": 2,
      "outputs": []
    },
    {
      "cell_type": "markdown",
      "metadata": {
        "id": "kWwNk5AlMgib"
      },
      "source": [
        "## Dataset: Fashion Mnist\n",
        "\n",
        "Link  https://keras.io/datasets/#fashion-mnist-database-of-fashion-articles\n",
        "\n",
        "Dataset que consiste de 60,000 imágenes de entrenamiento en blanco y negro catalogadas en 10 categorías y un test set de 10,000 imágenes. Los labels/rótulos son:\n",
        "\n",
        "| Label |\tDescription |\n",
        "--- | --- |\n",
        "| 0\t| T-shirt/top\n",
        "| 1\t| Trouser\n",
        "| 2\t| Pullover \n",
        "| 3\t| Dress\n",
        "| 4\t| Coat\n",
        "| 5\t| Sandal\n",
        "| 6\t| Shirt\n",
        "| 7\t| Sneaker\n",
        "| 8\t| Bag\n",
        "| 9\t| Ankle boot\n",
        "\n",
        "### Para importar\n",
        "from keras.datasets import fashion_mnist\n",
        "\n",
        "> (x_train, y_train), (x_test, y_test) = fashion_mnist.load_data()\n",
        "\n",
        "Retorna:\n",
        "2 tuplas:\n",
        "1. x_train, x_test: array de uint8 de imágenes blanco y negro de dimensiones (num_samples, 28, 28)\n",
        "2. y_train, y_test: array de uint8 d rótulos (enteros en el rango range 0-9) con dimensiones (num_samples,)."
      ]
    },
    {
      "cell_type": "code",
      "metadata": {
        "id": "KOy1QP9sMgic",
        "colab": {
          "base_uri": "https://localhost:8080/"
        },
        "outputId": "1b694eca-dac2-42ac-f76a-0f633c67ec37"
      },
      "source": [
        "fashion_mnist = keras.datasets.fashion_mnist\n",
        "(X_train_full, y_train_full), (X_test, y_test) = fashion_mnist.load_data()"
      ],
      "execution_count": 3,
      "outputs": [
        {
          "output_type": "stream",
          "text": [
            "Downloading data from https://storage.googleapis.com/tensorflow/tf-keras-datasets/train-labels-idx1-ubyte.gz\n",
            "32768/29515 [=================================] - 0s 0us/step\n",
            "Downloading data from https://storage.googleapis.com/tensorflow/tf-keras-datasets/train-images-idx3-ubyte.gz\n",
            "26427392/26421880 [==============================] - 0s 0us/step\n",
            "Downloading data from https://storage.googleapis.com/tensorflow/tf-keras-datasets/t10k-labels-idx1-ubyte.gz\n",
            "8192/5148 [===============================================] - 0s 0us/step\n",
            "Downloading data from https://storage.googleapis.com/tensorflow/tf-keras-datasets/t10k-images-idx3-ubyte.gz\n",
            "4423680/4422102 [==============================] - 0s 0us/step\n"
          ],
          "name": "stdout"
        }
      ]
    },
    {
      "cell_type": "code",
      "metadata": {
        "id": "5X0Y3T_-Mgie"
      },
      "source": [
        "class_names = [\"T-shirt/top\", \"Trouser\", \"Pullover\", \"Dress\", \"Coat\",\n",
        "               \"Sandal\", \"Shirt\", \"Sneaker\", \"Bag\", \"Ankle boot\"]"
      ],
      "execution_count": 4,
      "outputs": []
    },
    {
      "cell_type": "markdown",
      "metadata": {
        "id": "eEom-9LkMgih"
      },
      "source": [
        "### Redimensionamos los datos"
      ]
    },
    {
      "cell_type": "code",
      "metadata": {
        "id": "sUGEjL_IMgih"
      },
      "source": [
        "X_train_full = X_train_full.reshape((60000, 28, 28, 1))\n",
        "X_test = X_test.reshape((10000, 28, 28, 1))"
      ],
      "execution_count": 5,
      "outputs": []
    },
    {
      "cell_type": "markdown",
      "metadata": {
        "id": "br4e_zl0Mgik"
      },
      "source": [
        "### Normalización"
      ]
    },
    {
      "cell_type": "code",
      "metadata": {
        "id": "_eaCFmNIMgik"
      },
      "source": [
        "X_train_n = X_train_full / 255.\n",
        "X_test_n = X_test / 255."
      ],
      "execution_count": 6,
      "outputs": []
    },
    {
      "cell_type": "markdown",
      "metadata": {
        "id": "0JCGlU07Mgin"
      },
      "source": [
        "### Dividimos los datos en datasets de entrenamiento/validación/test"
      ]
    },
    {
      "cell_type": "code",
      "metadata": {
        "id": "MMsJIxuNMgio"
      },
      "source": [
        "X_valid, X_train = X_train_n[:5000], X_train_n[5000:]\n",
        "y_valid, y_train = y_train_full[:5000], y_train_full[5000:]\n",
        "X_test = X_test_n"
      ],
      "execution_count": 7,
      "outputs": []
    },
    {
      "cell_type": "markdown",
      "metadata": {
        "id": "XLvwPacnMgir"
      },
      "source": [
        "### Arquitectura con Pooling vs sin Pooling\n",
        "\n",
        "![image.png](attachment:image.png)"
      ]
    },
    {
      "cell_type": "markdown",
      "metadata": {
        "id": "-WkR17tAMgir"
      },
      "source": [
        "### Pooling vs No Pooling"
      ]
    },
    {
      "cell_type": "code",
      "metadata": {
        "id": "O7VLUQp5Mgis"
      },
      "source": [
        "model_a = keras.models.Sequential()\n",
        "model_a.add(keras.layers.Conv2D(filters = 32, kernel_size = (3, 3), strides=1, padding='valid', activation='relu', input_shape=(28, 28, 1)))\n",
        "model_a.add(keras.layers.Conv2D(filters = 64, kernel_size = (3, 3), strides=1, padding='valid', activation='relu'))\n",
        "model_a.add(keras.layers.MaxPooling2D((2, 2)))\n",
        "model_a.add(keras.layers.Conv2D(filters = 128, kernel_size = (3, 3), strides=1, padding='valid', activation='relu'))\n",
        "model_a.add(keras.layers.MaxPooling2D((2, 2)))\n",
        "model_a.add(keras.layers.Flatten())\n",
        "model_a.add(keras.layers.Dense(128, activation=\"relu\"))\n",
        "model_a.add(keras.layers.Dense(10, activation=\"softmax\"))\n",
        "\n",
        "# el segundo modelo no tiene Max Pool, notar que strides = 2 en la capa convolucional para que los dos modelos tengan\n",
        "# la misma cantidad de parámetros\n",
        "model_b = keras.models.Sequential()\n",
        "model_b.add(keras.layers.Conv2D(filters = 32, kernel_size = (3, 3), strides=1, padding='valid', activation='relu', input_shape=(28, 28, 1)))\n",
        "model_b.add(keras.layers.Conv2D(filters = 64, kernel_size = (3, 3), strides=2, padding='valid', activation='relu'))\n",
        "model_b.add(keras.layers.Conv2D(filters = 128, kernel_size = (3, 3), strides=2, padding='valid', activation='relu'))\n",
        "model_b.add(keras.layers.Flatten())\n",
        "model_b.add(keras.layers.Dense(128, activation=\"relu\"))\n",
        "model_b.add(keras.layers.Dense(10, activation=\"softmax\"))\n"
      ],
      "execution_count": 51,
      "outputs": []
    },
    {
      "cell_type": "code",
      "metadata": {
        "id": "-byXB946Mgiu",
        "outputId": "0fa4672e-50fa-476e-862a-580b22dc3097",
        "colab": {
          "base_uri": "https://localhost:8080/"
        }
      },
      "source": [
        "model_a.summary()"
      ],
      "execution_count": 52,
      "outputs": [
        {
          "output_type": "stream",
          "text": [
            "Model: \"sequential_20\"\n",
            "_________________________________________________________________\n",
            "Layer (type)                 Output Shape              Param #   \n",
            "=================================================================\n",
            "conv2d_39 (Conv2D)           (None, 26, 26, 32)        320       \n",
            "_________________________________________________________________\n",
            "conv2d_40 (Conv2D)           (None, 24, 24, 64)        18496     \n",
            "_________________________________________________________________\n",
            "max_pooling2d_20 (MaxPooling (None, 12, 12, 64)        0         \n",
            "_________________________________________________________________\n",
            "conv2d_41 (Conv2D)           (None, 10, 10, 128)       73856     \n",
            "_________________________________________________________________\n",
            "max_pooling2d_21 (MaxPooling (None, 5, 5, 128)         0         \n",
            "_________________________________________________________________\n",
            "flatten_19 (Flatten)         (None, 3200)              0         \n",
            "_________________________________________________________________\n",
            "dense_56 (Dense)             (None, 128)               409728    \n",
            "_________________________________________________________________\n",
            "dense_57 (Dense)             (None, 10)                1290      \n",
            "=================================================================\n",
            "Total params: 503,690\n",
            "Trainable params: 503,690\n",
            "Non-trainable params: 0\n",
            "_________________________________________________________________\n"
          ],
          "name": "stdout"
        }
      ]
    },
    {
      "cell_type": "code",
      "metadata": {
        "id": "Wfp5ATVqMgiy",
        "outputId": "80338987-0379-43e3-f11b-2c5d49a6fcbe",
        "colab": {
          "base_uri": "https://localhost:8080/"
        }
      },
      "source": [
        "model_b.summary()"
      ],
      "execution_count": 53,
      "outputs": [
        {
          "output_type": "stream",
          "text": [
            "Model: \"sequential_21\"\n",
            "_________________________________________________________________\n",
            "Layer (type)                 Output Shape              Param #   \n",
            "=================================================================\n",
            "conv2d_42 (Conv2D)           (None, 26, 26, 32)        320       \n",
            "_________________________________________________________________\n",
            "conv2d_43 (Conv2D)           (None, 12, 12, 64)        18496     \n",
            "_________________________________________________________________\n",
            "conv2d_44 (Conv2D)           (None, 5, 5, 128)         73856     \n",
            "_________________________________________________________________\n",
            "flatten_20 (Flatten)         (None, 3200)              0         \n",
            "_________________________________________________________________\n",
            "dense_58 (Dense)             (None, 128)               409728    \n",
            "_________________________________________________________________\n",
            "dense_59 (Dense)             (None, 10)                1290      \n",
            "=================================================================\n",
            "Total params: 503,690\n",
            "Trainable params: 503,690\n",
            "Non-trainable params: 0\n",
            "_________________________________________________________________\n"
          ],
          "name": "stdout"
        }
      ]
    },
    {
      "cell_type": "code",
      "metadata": {
        "id": "xrYOfWXOMgi0"
      },
      "source": [
        "model_a.compile(loss=\"sparse_categorical_crossentropy\",\n",
        "              optimizer=\"sgd\",\n",
        "              metrics=[\"accuracy\"])\n",
        "\n",
        "model_b.compile(loss=\"sparse_categorical_crossentropy\",\n",
        "              optimizer=\"sgd\",\n",
        "              metrics=[\"accuracy\"])"
      ],
      "execution_count": 55,
      "outputs": []
    },
    {
      "cell_type": "code",
      "metadata": {
        "id": "cFTBddfKMgi2",
        "colab": {
          "base_uri": "https://localhost:8080/"
        },
        "outputId": "ba0bd387-cb8d-4151-b28a-deae6b4d688e"
      },
      "source": [
        "model_history_a = model_a.fit(X_train, y_train, epochs=3,batch_size= 64,\n",
        "                    validation_data=(X_valid, y_valid))"
      ],
      "execution_count": 56,
      "outputs": [
        {
          "output_type": "stream",
          "text": [
            "Epoch 1/3\n",
            "860/860 [==============================] - 192s 223ms/step - loss: 1.1074 - accuracy: 0.6063 - val_loss: 0.7069 - val_accuracy: 0.7508\n",
            "Epoch 2/3\n",
            "860/860 [==============================] - 193s 224ms/step - loss: 0.5644 - accuracy: 0.7882 - val_loss: 0.5162 - val_accuracy: 0.8204\n",
            "Epoch 3/3\n",
            "860/860 [==============================] - 193s 225ms/step - loss: 0.4770 - accuracy: 0.8252 - val_loss: 0.4429 - val_accuracy: 0.8378\n"
          ],
          "name": "stdout"
        }
      ]
    },
    {
      "cell_type": "code",
      "metadata": {
        "id": "PeCTxg_-Mgi6",
        "colab": {
          "base_uri": "https://localhost:8080/",
          "height": 324
        },
        "outputId": "329a9ed8-f27d-4df0-dec5-342adc0c74c0"
      },
      "source": [
        "import pandas as pd\n",
        "\n",
        "pd.DataFrame(model_history_a.history).plot(figsize=(8, 5))\n",
        "plt.grid(True)\n",
        "plt.gca().set_ylim(0, 1)\n",
        "plt.show()"
      ],
      "execution_count": 57,
      "outputs": [
        {
          "output_type": "display_data",
          "data": {
            "image/png": "[encoded data removed]",
            "text/plain": [
              "<Figure size 576x360 with 1 Axes>"
            ]
          },
          "metadata": {
            "tags": [],
            "needs_background": "light"
          }
        }
      ]
    },
    {
      "cell_type": "code",
      "metadata": {
        "id": "gRBm_RC5Mgi8",
        "colab": {
          "base_uri": "https://localhost:8080/"
        },
        "outputId": "1dece389-4210-467d-91fd-0f26c75e42c3"
      },
      "source": [
        "ev = model_a.evaluate(X_test_n, y_test)"
      ],
      "execution_count": 58,
      "outputs": [
        {
          "output_type": "stream",
          "text": [
            "313/313 [==============================] - 9s 29ms/step - loss: 0.4754 - accuracy: 0.8259\n"
          ],
          "name": "stdout"
        }
      ]
    },
    {
      "cell_type": "code",
      "metadata": {
        "id": "JGRTkBTZMgi_"
      },
      "source": [
        "X_new = X_test[:3]"
      ],
      "execution_count": 59,
      "outputs": []
    },
    {
      "cell_type": "code",
      "metadata": {
        "id": "ZamreViFMgjB",
        "colab": {
          "base_uri": "https://localhost:8080/"
        },
        "outputId": "55386291-c1d6-446a-ddc7-81595bc6e361"
      },
      "source": [
        "y_pred = model_a.predict_classes(X_new)\n",
        "y_pred"
      ],
      "execution_count": 60,
      "outputs": [
        {
          "output_type": "stream",
          "text": [
            "/usr/local/lib/python3.7/dist-packages/tensorflow/python/keras/engine/sequential.py:455: UserWarning: `model.predict_classes()` is deprecated and will be removed after 2021-01-01. Please use instead:* `np.argmax(model.predict(x), axis=-1)`,   if your model does multi-class classification   (e.g. if it uses a `softmax` last-layer activation).* `(model.predict(x) > 0.5).astype(\"int32\")`,   if your model does binary classification   (e.g. if it uses a `sigmoid` last-layer activation).\n",
            "  warnings.warn('`model.predict_classes()` is deprecated and '\n"
          ],
          "name": "stderr"
        },
        {
          "output_type": "execute_result",
          "data": {
            "text/plain": [
              "array([9, 2, 1])"
            ]
          },
          "metadata": {
            "tags": []
          },
          "execution_count": 60
        }
      ]
    },
    {
      "cell_type": "code",
      "metadata": {
        "id": "NM8uKf5wMgjD",
        "outputId": "d67af04c-3057-4adf-9c90-a70bfe52112d",
        "colab": {
          "base_uri": "https://localhost:8080/"
        }
      },
      "source": [
        "y_test[:3]"
      ],
      "execution_count": 61,
      "outputs": [
        {
          "output_type": "execute_result",
          "data": {
            "text/plain": [
              "array([9, 2, 1], dtype=uint8)"
            ]
          },
          "metadata": {
            "tags": []
          },
          "execution_count": 61
        }
      ]
    },
    {
      "cell_type": "code",
      "metadata": {
        "id": "Qd97ymg6MgjF",
        "colab": {
          "base_uri": "https://localhost:8080/",
          "height": 283
        },
        "outputId": "9e3692e1-55a4-4630-c186-14de4adf883a"
      },
      "source": [
        "print(plt.imshow(X_test[2].reshape((28,28))))"
      ],
      "execution_count": 62,
      "outputs": [
        {
          "output_type": "stream",
          "text": [
            "AxesImage(54,36;334.8x217.44)\n"
          ],
          "name": "stdout"
        },
        {
          "output_type": "display_data",
          "data": {
            "image/png": "[encoded data removed]",
            "text/plain": [
              "<Figure size 432x288 with 1 Axes>"
            ]
          },
          "metadata": {
            "tags": [],
            "needs_background": "light"
          }
        }
      ]
    },
    {
      "cell_type": "code",
      "metadata": {
        "id": "2SUfVbMoMgjI",
        "colab": {
          "base_uri": "https://localhost:8080/"
        },
        "outputId": "0968be36-60c2-4bb9-b999-6899c1f842a3"
      },
      "source": [
        "model_history_b = model_b.fit(X_train, y_train, epochs=3,batch_size= 64,\n",
        "                    validation_data=(X_valid, y_valid))"
      ],
      "execution_count": 63,
      "outputs": [
        {
          "output_type": "stream",
          "text": [
            "Epoch 1/3\n",
            "860/860 [==============================] - 59s 68ms/step - loss: 1.0679 - accuracy: 0.6310 - val_loss: 0.6439 - val_accuracy: 0.7602\n",
            "Epoch 2/3\n",
            "860/860 [==============================] - 59s 69ms/step - loss: 0.6036 - accuracy: 0.7776 - val_loss: 0.5398 - val_accuracy: 0.8050\n",
            "Epoch 3/3\n",
            "860/860 [==============================] - 59s 69ms/step - loss: 0.5266 - accuracy: 0.8062 - val_loss: 0.5785 - val_accuracy: 0.7534\n"
          ],
          "name": "stdout"
        }
      ]
    },
    {
      "cell_type": "code",
      "metadata": {
        "id": "ZHCpTWB_MgjL",
        "colab": {
          "base_uri": "https://localhost:8080/"
        },
        "outputId": "f0afe312-c1d8-40d0-e668-5ebb92c8774c"
      },
      "source": [
        "ev = model_b.evaluate(X_test_n, y_test)"
      ],
      "execution_count": 64,
      "outputs": [
        {
          "output_type": "stream",
          "text": [
            "313/313 [==============================] - 4s 12ms/step - loss: 0.6294 - accuracy: 0.7375\n"
          ],
          "name": "stdout"
        }
      ]
    },
    {
      "cell_type": "code",
      "metadata": {
        "id": "Zrx9EYrCHpL6"
      },
      "source": [
        ""
      ],
      "execution_count": null,
      "outputs": []
    }
  ]
}